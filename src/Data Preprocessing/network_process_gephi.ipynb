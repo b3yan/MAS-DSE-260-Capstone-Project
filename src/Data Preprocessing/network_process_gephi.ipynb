{
 "cells": [
  {
   "cell_type": "code",
   "execution_count": 1,
   "id": "c609fde7",
   "metadata": {},
   "outputs": [],
   "source": [
    "import pandas as pd"
   ]
  },
  {
   "cell_type": "code",
   "execution_count": 15,
   "id": "c8f9ac70",
   "metadata": {},
   "outputs": [],
   "source": [
    "flight = pd.read_csv('data/air_traffic/flightlist_20211201_20211231.csv')"
   ]
  },
  {
   "cell_type": "code",
   "execution_count": 110,
   "id": "d20c19f9",
   "metadata": {
    "scrolled": false
   },
   "outputs": [
    {
     "data": {
      "text/html": [
       "<div>\n",
       "<style scoped>\n",
       "    .dataframe tbody tr th:only-of-type {\n",
       "        vertical-align: middle;\n",
       "    }\n",
       "\n",
       "    .dataframe tbody tr th {\n",
       "        vertical-align: top;\n",
       "    }\n",
       "\n",
       "    .dataframe thead th {\n",
       "        text-align: right;\n",
       "    }\n",
       "</style>\n",
       "<table border=\"1\" class=\"dataframe\">\n",
       "  <thead>\n",
       "    <tr style=\"text-align: right;\">\n",
       "      <th></th>\n",
       "      <th>callsign</th>\n",
       "      <th>number</th>\n",
       "      <th>icao24</th>\n",
       "      <th>registration</th>\n",
       "      <th>typecode</th>\n",
       "      <th>origin</th>\n",
       "      <th>destination</th>\n",
       "      <th>firstseen</th>\n",
       "      <th>lastseen</th>\n",
       "      <th>day</th>\n",
       "      <th>latitude_1</th>\n",
       "      <th>longitude_1</th>\n",
       "      <th>altitude_1</th>\n",
       "      <th>latitude_2</th>\n",
       "      <th>longitude_2</th>\n",
       "      <th>altitude_2</th>\n",
       "    </tr>\n",
       "  </thead>\n",
       "  <tbody>\n",
       "    <tr>\n",
       "      <th>0</th>\n",
       "      <td>LAN9712</td>\n",
       "      <td>NaN</td>\n",
       "      <td>e8027a</td>\n",
       "      <td>CC-BBF</td>\n",
       "      <td>B788</td>\n",
       "      <td>KLAX</td>\n",
       "      <td>KMIA</td>\n",
       "      <td>2021-11-30 00:04:09+00:00</td>\n",
       "      <td>2021-12-01 03:25:21+00:00</td>\n",
       "      <td>2021-12-01 00:00:00+00:00</td>\n",
       "      <td>33.946884</td>\n",
       "      <td>-118.434299</td>\n",
       "      <td>0.0</td>\n",
       "      <td>25.784683</td>\n",
       "      <td>-80.347392</td>\n",
       "      <td>129.54</td>\n",
       "    </tr>\n",
       "    <tr>\n",
       "      <th>1</th>\n",
       "      <td>RDA5003</td>\n",
       "      <td>NaN</td>\n",
       "      <td>510146</td>\n",
       "      <td>NaN</td>\n",
       "      <td>NaN</td>\n",
       "      <td>ZBTJ</td>\n",
       "      <td>NaN</td>\n",
       "      <td>2021-11-30 01:13:09+00:00</td>\n",
       "      <td>2021-12-01 02:07:36+00:00</td>\n",
       "      <td>2021-12-01 00:00:00+00:00</td>\n",
       "      <td>39.187683</td>\n",
       "      <td>117.438832</td>\n",
       "      <td>609.6</td>\n",
       "      <td>33.607504</td>\n",
       "      <td>14.337444</td>\n",
       "      <td>5745.48</td>\n",
       "    </tr>\n",
       "    <tr>\n",
       "      <th>2</th>\n",
       "      <td>KMF903</td>\n",
       "      <td>NaN</td>\n",
       "      <td>700024</td>\n",
       "      <td>NaN</td>\n",
       "      <td>NaN</td>\n",
       "      <td>OMAA</td>\n",
       "      <td>OM11</td>\n",
       "      <td>2021-11-30 01:38:15+00:00</td>\n",
       "      <td>2021-12-01 13:43:43+00:00</td>\n",
       "      <td>2021-12-01 00:00:00+00:00</td>\n",
       "      <td>24.378204</td>\n",
       "      <td>54.780426</td>\n",
       "      <td>914.4</td>\n",
       "      <td>24.385971</td>\n",
       "      <td>54.875206</td>\n",
       "      <td>1257.30</td>\n",
       "    </tr>\n",
       "    <tr>\n",
       "      <th>3</th>\n",
       "      <td>LGT2878</td>\n",
       "      <td>NaN</td>\n",
       "      <td>4244a1</td>\n",
       "      <td>NaN</td>\n",
       "      <td>NaN</td>\n",
       "      <td>EBLG</td>\n",
       "      <td>EBLG</td>\n",
       "      <td>2021-11-30 02:08:50+00:00</td>\n",
       "      <td>2021-12-01 22:25:38+00:00</td>\n",
       "      <td>2021-12-01 00:00:00+00:00</td>\n",
       "      <td>50.629257</td>\n",
       "      <td>5.431366</td>\n",
       "      <td>304.8</td>\n",
       "      <td>50.656906</td>\n",
       "      <td>5.475094</td>\n",
       "      <td>396.24</td>\n",
       "    </tr>\n",
       "    <tr>\n",
       "      <th>4</th>\n",
       "      <td>CCA589</td>\n",
       "      <td>NaN</td>\n",
       "      <td>7816b5</td>\n",
       "      <td>NaN</td>\n",
       "      <td>NaN</td>\n",
       "      <td>KLAX</td>\n",
       "      <td>EGLL</td>\n",
       "      <td>2021-11-30 02:11:40+00:00</td>\n",
       "      <td>2021-12-01 07:46:59+00:00</td>\n",
       "      <td>2021-12-01 00:00:00+00:00</td>\n",
       "      <td>33.947800</td>\n",
       "      <td>-118.424602</td>\n",
       "      <td>0.0</td>\n",
       "      <td>51.464951</td>\n",
       "      <td>-0.437523</td>\n",
       "      <td>152.40</td>\n",
       "    </tr>\n",
       "  </tbody>\n",
       "</table>\n",
       "</div>"
      ],
      "text/plain": [
       "  callsign number  icao24 registration typecode origin destination  \\\n",
       "0  LAN9712    NaN  e8027a       CC-BBF     B788   KLAX        KMIA   \n",
       "1  RDA5003    NaN  510146          NaN      NaN   ZBTJ         NaN   \n",
       "2   KMF903    NaN  700024          NaN      NaN   OMAA        OM11   \n",
       "3  LGT2878    NaN  4244a1          NaN      NaN   EBLG        EBLG   \n",
       "4   CCA589    NaN  7816b5          NaN      NaN   KLAX        EGLL   \n",
       "\n",
       "                   firstseen                   lastseen  \\\n",
       "0  2021-11-30 00:04:09+00:00  2021-12-01 03:25:21+00:00   \n",
       "1  2021-11-30 01:13:09+00:00  2021-12-01 02:07:36+00:00   \n",
       "2  2021-11-30 01:38:15+00:00  2021-12-01 13:43:43+00:00   \n",
       "3  2021-11-30 02:08:50+00:00  2021-12-01 22:25:38+00:00   \n",
       "4  2021-11-30 02:11:40+00:00  2021-12-01 07:46:59+00:00   \n",
       "\n",
       "                         day  latitude_1  longitude_1  altitude_1  latitude_2  \\\n",
       "0  2021-12-01 00:00:00+00:00   33.946884  -118.434299         0.0   25.784683   \n",
       "1  2021-12-01 00:00:00+00:00   39.187683   117.438832       609.6   33.607504   \n",
       "2  2021-12-01 00:00:00+00:00   24.378204    54.780426       914.4   24.385971   \n",
       "3  2021-12-01 00:00:00+00:00   50.629257     5.431366       304.8   50.656906   \n",
       "4  2021-12-01 00:00:00+00:00   33.947800  -118.424602         0.0   51.464951   \n",
       "\n",
       "   longitude_2  altitude_2  \n",
       "0   -80.347392      129.54  \n",
       "1    14.337444     5745.48  \n",
       "2    54.875206     1257.30  \n",
       "3     5.475094      396.24  \n",
       "4    -0.437523      152.40  "
      ]
     },
     "execution_count": 110,
     "metadata": {},
     "output_type": "execute_result"
    }
   ],
   "source": [
    "flight.head()"
   ]
  },
  {
   "cell_type": "code",
   "execution_count": 10,
   "id": "151ebfb0",
   "metadata": {},
   "outputs": [],
   "source": [
    "n0 = pd.read_csv('Nodes1.csv', sep=';')\n",
    "e0 = pd.read_csv('Edges1.csv', sep=';')"
   ]
  },
  {
   "cell_type": "code",
   "execution_count": 9,
   "id": "86f6e0d3",
   "metadata": {},
   "outputs": [
    {
     "data": {
      "text/html": [
       "<div>\n",
       "<style scoped>\n",
       "    .dataframe tbody tr th:only-of-type {\n",
       "        vertical-align: middle;\n",
       "    }\n",
       "\n",
       "    .dataframe tbody tr th {\n",
       "        vertical-align: top;\n",
       "    }\n",
       "\n",
       "    .dataframe thead th {\n",
       "        text-align: right;\n",
       "    }\n",
       "</style>\n",
       "<table border=\"1\" class=\"dataframe\">\n",
       "  <thead>\n",
       "    <tr style=\"text-align: right;\">\n",
       "      <th></th>\n",
       "      <th>Id</th>\n",
       "      <th>Label</th>\n",
       "      <th>Attribute1</th>\n",
       "      <th>City</th>\n",
       "      <th>Latitude</th>\n",
       "      <th>Longitude</th>\n",
       "    </tr>\n",
       "  </thead>\n",
       "  <tbody>\n",
       "    <tr>\n",
       "      <th>0</th>\n",
       "      <td>376088951</td>\n",
       "      <td>name1</td>\n",
       "      <td>1</td>\n",
       "      <td>Berlin</td>\n",
       "      <td>52.51</td>\n",
       "      <td>13.4</td>\n",
       "    </tr>\n",
       "    <tr>\n",
       "      <th>1</th>\n",
       "      <td>17647430</td>\n",
       "      <td>name2</td>\n",
       "      <td>2</td>\n",
       "      <td>Berlin</td>\n",
       "      <td>52.51</td>\n",
       "      <td>13.4</td>\n",
       "    </tr>\n",
       "    <tr>\n",
       "      <th>2</th>\n",
       "      <td>32416061</td>\n",
       "      <td>name3</td>\n",
       "      <td>1</td>\n",
       "      <td>Berlin</td>\n",
       "      <td>52.51</td>\n",
       "      <td>13.4</td>\n",
       "    </tr>\n",
       "    <tr>\n",
       "      <th>3</th>\n",
       "      <td>550180187</td>\n",
       "      <td>name4</td>\n",
       "      <td>2</td>\n",
       "      <td>Berlin</td>\n",
       "      <td>52.51</td>\n",
       "      <td>13.4</td>\n",
       "    </tr>\n",
       "    <tr>\n",
       "      <th>4</th>\n",
       "      <td>28110685</td>\n",
       "      <td>name5</td>\n",
       "      <td>1</td>\n",
       "      <td>Berlin</td>\n",
       "      <td>52.51</td>\n",
       "      <td>13.4</td>\n",
       "    </tr>\n",
       "  </tbody>\n",
       "</table>\n",
       "</div>"
      ],
      "text/plain": [
       "          Id  Label  Attribute1    City  Latitude  Longitude\n",
       "0  376088951  name1           1  Berlin     52.51       13.4\n",
       "1   17647430  name2           2  Berlin     52.51       13.4\n",
       "2   32416061  name3           1  Berlin     52.51       13.4\n",
       "3  550180187  name4           2  Berlin     52.51       13.4\n",
       "4   28110685  name5           1  Berlin     52.51       13.4"
      ]
     },
     "execution_count": 9,
     "metadata": {},
     "output_type": "execute_result"
    }
   ],
   "source": [
    "n0.head()"
   ]
  },
  {
   "cell_type": "code",
   "execution_count": 60,
   "id": "040ecc34",
   "metadata": {
    "scrolled": false
   },
   "outputs": [
    {
     "data": {
      "text/plain": [
       "array([1, 2])"
      ]
     },
     "execution_count": 60,
     "metadata": {},
     "output_type": "execute_result"
    }
   ],
   "source": [
    "n0.Attribute1.unique()"
   ]
  },
  {
   "cell_type": "markdown",
   "id": "39a1e645",
   "metadata": {},
   "source": [
    "#### all airporst from U.S"
   ]
  },
  {
   "cell_type": "code",
   "execution_count": 14,
   "id": "f86cfbdd",
   "metadata": {
    "scrolled": true
   },
   "outputs": [
    {
     "data": {
      "text/html": [
       "<div>\n",
       "<style scoped>\n",
       "    .dataframe tbody tr th:only-of-type {\n",
       "        vertical-align: middle;\n",
       "    }\n",
       "\n",
       "    .dataframe tbody tr th {\n",
       "        vertical-align: top;\n",
       "    }\n",
       "\n",
       "    .dataframe thead th {\n",
       "        text-align: right;\n",
       "    }\n",
       "</style>\n",
       "<table border=\"1\" class=\"dataframe\">\n",
       "  <thead>\n",
       "    <tr style=\"text-align: right;\">\n",
       "      <th></th>\n",
       "      <th>ident</th>\n",
       "      <th>latitude_deg</th>\n",
       "      <th>longitude_deg</th>\n",
       "      <th>name</th>\n",
       "    </tr>\n",
       "  </thead>\n",
       "  <tbody>\n",
       "    <tr>\n",
       "      <th>1</th>\n",
       "      <td>KLAX</td>\n",
       "      <td>33.942501</td>\n",
       "      <td>-118.407997</td>\n",
       "      <td>Los Angeles International Airport</td>\n",
       "    </tr>\n",
       "    <tr>\n",
       "      <th>2</th>\n",
       "      <td>KORD</td>\n",
       "      <td>41.9786</td>\n",
       "      <td>-87.9048</td>\n",
       "      <td>Chicago O'Hare International Airport</td>\n",
       "    </tr>\n",
       "    <tr>\n",
       "      <th>3</th>\n",
       "      <td>KJFK</td>\n",
       "      <td>40.639801</td>\n",
       "      <td>-73.7789</td>\n",
       "      <td>John F Kennedy International Airport</td>\n",
       "    </tr>\n",
       "    <tr>\n",
       "      <th>4</th>\n",
       "      <td>KATL</td>\n",
       "      <td>33.6367</td>\n",
       "      <td>-84.428101</td>\n",
       "      <td>Hartsfield Jackson Atlanta International Airport</td>\n",
       "    </tr>\n",
       "    <tr>\n",
       "      <th>5</th>\n",
       "      <td>KSFO</td>\n",
       "      <td>37.61899948120117</td>\n",
       "      <td>-122.375</td>\n",
       "      <td>San Francisco International Airport</td>\n",
       "    </tr>\n",
       "  </tbody>\n",
       "</table>\n",
       "</div>"
      ],
      "text/plain": [
       "  ident       latitude_deg longitude_deg  \\\n",
       "1  KLAX          33.942501   -118.407997   \n",
       "2  KORD            41.9786      -87.9048   \n",
       "3  KJFK          40.639801      -73.7789   \n",
       "4  KATL            33.6367    -84.428101   \n",
       "5  KSFO  37.61899948120117      -122.375   \n",
       "\n",
       "                                               name  \n",
       "1                 Los Angeles International Airport  \n",
       "2              Chicago O'Hare International Airport  \n",
       "3              John F Kennedy International Airport  \n",
       "4  Hartsfield Jackson Atlanta International Airport  \n",
       "5               San Francisco International Airport  "
      ]
     },
     "execution_count": 14,
     "metadata": {},
     "output_type": "execute_result"
    }
   ],
   "source": [
    "airports = pd.read_csv('data/us-airports.csv')\n",
    "to_keep = ['ident', 'latitude_deg', 'longitude_deg', 'name']\n",
    "airports = airports[to_keep]\n",
    "airports = airports.iloc[1:,:]\n",
    "airports.head()"
   ]
  },
  {
   "cell_type": "markdown",
   "id": "f88f709d",
   "metadata": {},
   "source": [
    "#### all airports from world"
   ]
  },
  {
   "cell_type": "code",
   "execution_count": 98,
   "id": "6f2b6107",
   "metadata": {
    "scrolled": true
   },
   "outputs": [
    {
     "data": {
      "text/html": [
       "<div>\n",
       "<style scoped>\n",
       "    .dataframe tbody tr th:only-of-type {\n",
       "        vertical-align: middle;\n",
       "    }\n",
       "\n",
       "    .dataframe tbody tr th {\n",
       "        vertical-align: top;\n",
       "    }\n",
       "\n",
       "    .dataframe thead th {\n",
       "        text-align: right;\n",
       "    }\n",
       "</style>\n",
       "<table border=\"1\" class=\"dataframe\">\n",
       "  <thead>\n",
       "    <tr style=\"text-align: right;\">\n",
       "      <th></th>\n",
       "      <th>ICAO</th>\n",
       "      <th>Latitude</th>\n",
       "      <th>Longitude</th>\n",
       "      <th>Name</th>\n",
       "    </tr>\n",
       "  </thead>\n",
       "  <tbody>\n",
       "    <tr>\n",
       "      <th>0</th>\n",
       "      <td>AYGA</td>\n",
       "      <td>-6.081690</td>\n",
       "      <td>145.391998</td>\n",
       "      <td>Goroka Airport</td>\n",
       "    </tr>\n",
       "    <tr>\n",
       "      <th>1</th>\n",
       "      <td>AYMD</td>\n",
       "      <td>-5.207080</td>\n",
       "      <td>145.789001</td>\n",
       "      <td>Madang Airport</td>\n",
       "    </tr>\n",
       "    <tr>\n",
       "      <th>2</th>\n",
       "      <td>AYMH</td>\n",
       "      <td>-5.826790</td>\n",
       "      <td>144.296005</td>\n",
       "      <td>Mount Hagen Kagamuga Airport</td>\n",
       "    </tr>\n",
       "    <tr>\n",
       "      <th>3</th>\n",
       "      <td>AYNZ</td>\n",
       "      <td>-6.569803</td>\n",
       "      <td>146.725977</td>\n",
       "      <td>Nadzab Airport</td>\n",
       "    </tr>\n",
       "    <tr>\n",
       "      <th>4</th>\n",
       "      <td>AYPY</td>\n",
       "      <td>-9.443380</td>\n",
       "      <td>147.220001</td>\n",
       "      <td>Port Moresby Jacksons International Airport</td>\n",
       "    </tr>\n",
       "  </tbody>\n",
       "</table>\n",
       "</div>"
      ],
      "text/plain": [
       "   ICAO  Latitude   Longitude                                         Name\n",
       "0  AYGA -6.081690  145.391998                               Goroka Airport\n",
       "1  AYMD -5.207080  145.789001                               Madang Airport\n",
       "2  AYMH -5.826790  144.296005                 Mount Hagen Kagamuga Airport\n",
       "3  AYNZ -6.569803  146.725977                               Nadzab Airport\n",
       "4  AYPY -9.443380  147.220001  Port Moresby Jacksons International Airport"
      ]
     },
     "execution_count": 98,
     "metadata": {},
     "output_type": "execute_result"
    }
   ],
   "source": [
    "all_airports = pd.read_csv('airports.dat', header=None)\n",
    "\n",
    "col = ['ID','Name','City','Country',\n",
    "       'IATA','ICAO','Latitude','Longitude',\n",
    "       'Altitude','Timezone','DST','time_zone',\n",
    "       'Type','Source']\n",
    "\n",
    "all_airports.columns = col\n",
    "all_airports = all_airports[['ICAO','Latitude','Longitude','Name']]\n",
    "all_airports.head()"
   ]
  },
  {
   "cell_type": "code",
   "execution_count": 96,
   "id": "ae2fbb8f",
   "metadata": {},
   "outputs": [
    {
     "data": {
      "text/plain": [
       "array(['GKA', 'MAG', 'HGU', ..., '\\\\N', 'CPO', '\\\\N'], dtype=object)"
      ]
     },
     "execution_count": 96,
     "metadata": {},
     "output_type": "execute_result"
    }
   ],
   "source": [
    "all_airports.IATA.values"
   ]
  },
  {
   "cell_type": "markdown",
   "id": "a4d53484",
   "metadata": {},
   "source": [
    "#### isolate all the fights in US"
   ]
  },
  {
   "cell_type": "code",
   "execution_count": 102,
   "id": "f6ec2a40",
   "metadata": {},
   "outputs": [],
   "source": [
    "world_flight = flight[flight.origin.isin(all_airports.ICAO.values) & flight.destination.isin(all_airports.ICAO.values)]"
   ]
  },
  {
   "cell_type": "code",
   "execution_count": 103,
   "id": "a27d8ffc",
   "metadata": {
    "scrolled": false
   },
   "outputs": [
    {
     "data": {
      "text/html": [
       "<div>\n",
       "<style scoped>\n",
       "    .dataframe tbody tr th:only-of-type {\n",
       "        vertical-align: middle;\n",
       "    }\n",
       "\n",
       "    .dataframe tbody tr th {\n",
       "        vertical-align: top;\n",
       "    }\n",
       "\n",
       "    .dataframe thead th {\n",
       "        text-align: right;\n",
       "    }\n",
       "</style>\n",
       "<table border=\"1\" class=\"dataframe\">\n",
       "  <thead>\n",
       "    <tr style=\"text-align: right;\">\n",
       "      <th></th>\n",
       "      <th>callsign</th>\n",
       "      <th>number</th>\n",
       "      <th>icao24</th>\n",
       "      <th>registration</th>\n",
       "      <th>typecode</th>\n",
       "      <th>origin</th>\n",
       "      <th>destination</th>\n",
       "      <th>firstseen</th>\n",
       "      <th>lastseen</th>\n",
       "      <th>day</th>\n",
       "      <th>latitude_1</th>\n",
       "      <th>longitude_1</th>\n",
       "      <th>altitude_1</th>\n",
       "      <th>latitude_2</th>\n",
       "      <th>longitude_2</th>\n",
       "      <th>altitude_2</th>\n",
       "    </tr>\n",
       "  </thead>\n",
       "  <tbody>\n",
       "    <tr>\n",
       "      <th>0</th>\n",
       "      <td>LAN9712</td>\n",
       "      <td>NaN</td>\n",
       "      <td>e8027a</td>\n",
       "      <td>CC-BBF</td>\n",
       "      <td>B788</td>\n",
       "      <td>KLAX</td>\n",
       "      <td>KMIA</td>\n",
       "      <td>2021-11-30 00:04:09+00:00</td>\n",
       "      <td>2021-12-01 03:25:21+00:00</td>\n",
       "      <td>2021-12-01 00:00:00+00:00</td>\n",
       "      <td>33.946884</td>\n",
       "      <td>-118.434299</td>\n",
       "      <td>0.0</td>\n",
       "      <td>25.784683</td>\n",
       "      <td>-80.347392</td>\n",
       "      <td>129.54</td>\n",
       "    </tr>\n",
       "    <tr>\n",
       "      <th>3</th>\n",
       "      <td>LGT2878</td>\n",
       "      <td>NaN</td>\n",
       "      <td>4244a1</td>\n",
       "      <td>NaN</td>\n",
       "      <td>NaN</td>\n",
       "      <td>EBLG</td>\n",
       "      <td>EBLG</td>\n",
       "      <td>2021-11-30 02:08:50+00:00</td>\n",
       "      <td>2021-12-01 22:25:38+00:00</td>\n",
       "      <td>2021-12-01 00:00:00+00:00</td>\n",
       "      <td>50.629257</td>\n",
       "      <td>5.431366</td>\n",
       "      <td>304.8</td>\n",
       "      <td>50.656906</td>\n",
       "      <td>5.475094</td>\n",
       "      <td>396.24</td>\n",
       "    </tr>\n",
       "    <tr>\n",
       "      <th>4</th>\n",
       "      <td>CCA589</td>\n",
       "      <td>NaN</td>\n",
       "      <td>7816b5</td>\n",
       "      <td>NaN</td>\n",
       "      <td>NaN</td>\n",
       "      <td>KLAX</td>\n",
       "      <td>EGLL</td>\n",
       "      <td>2021-11-30 02:11:40+00:00</td>\n",
       "      <td>2021-12-01 07:46:59+00:00</td>\n",
       "      <td>2021-12-01 00:00:00+00:00</td>\n",
       "      <td>33.947800</td>\n",
       "      <td>-118.424602</td>\n",
       "      <td>0.0</td>\n",
       "      <td>51.464951</td>\n",
       "      <td>-0.437523</td>\n",
       "      <td>152.40</td>\n",
       "    </tr>\n",
       "    <tr>\n",
       "      <th>5</th>\n",
       "      <td>TAY812</td>\n",
       "      <td>NaN</td>\n",
       "      <td>4408ff</td>\n",
       "      <td>OE-IFD</td>\n",
       "      <td>B744</td>\n",
       "      <td>EBLG</td>\n",
       "      <td>EBLG</td>\n",
       "      <td>2021-11-30 03:05:04+00:00</td>\n",
       "      <td>2021-12-01 03:03:43+00:00</td>\n",
       "      <td>2021-12-01 00:00:00+00:00</td>\n",
       "      <td>50.627979</td>\n",
       "      <td>5.428731</td>\n",
       "      <td>304.8</td>\n",
       "      <td>50.646378</td>\n",
       "      <td>5.458326</td>\n",
       "      <td>281.94</td>\n",
       "    </tr>\n",
       "    <tr>\n",
       "      <th>6</th>\n",
       "      <td>CLX5327</td>\n",
       "      <td>NaN</td>\n",
       "      <td>4d0116</td>\n",
       "      <td>LX-VCL</td>\n",
       "      <td>B748</td>\n",
       "      <td>WMKK</td>\n",
       "      <td>ELLX</td>\n",
       "      <td>2021-11-30 04:32:47+00:00</td>\n",
       "      <td>2021-12-01 03:24:15+00:00</td>\n",
       "      <td>2021-12-01 00:00:00+00:00</td>\n",
       "      <td>2.861287</td>\n",
       "      <td>101.667575</td>\n",
       "      <td>914.4</td>\n",
       "      <td>49.627762</td>\n",
       "      <td>6.215081</td>\n",
       "      <td>434.34</td>\n",
       "    </tr>\n",
       "  </tbody>\n",
       "</table>\n",
       "</div>"
      ],
      "text/plain": [
       "  callsign number  icao24 registration typecode origin destination  \\\n",
       "0  LAN9712    NaN  e8027a       CC-BBF     B788   KLAX        KMIA   \n",
       "3  LGT2878    NaN  4244a1          NaN      NaN   EBLG        EBLG   \n",
       "4   CCA589    NaN  7816b5          NaN      NaN   KLAX        EGLL   \n",
       "5   TAY812    NaN  4408ff       OE-IFD     B744   EBLG        EBLG   \n",
       "6  CLX5327    NaN  4d0116       LX-VCL     B748   WMKK        ELLX   \n",
       "\n",
       "                   firstseen                   lastseen  \\\n",
       "0  2021-11-30 00:04:09+00:00  2021-12-01 03:25:21+00:00   \n",
       "3  2021-11-30 02:08:50+00:00  2021-12-01 22:25:38+00:00   \n",
       "4  2021-11-30 02:11:40+00:00  2021-12-01 07:46:59+00:00   \n",
       "5  2021-11-30 03:05:04+00:00  2021-12-01 03:03:43+00:00   \n",
       "6  2021-11-30 04:32:47+00:00  2021-12-01 03:24:15+00:00   \n",
       "\n",
       "                         day  latitude_1  longitude_1  altitude_1  latitude_2  \\\n",
       "0  2021-12-01 00:00:00+00:00   33.946884  -118.434299         0.0   25.784683   \n",
       "3  2021-12-01 00:00:00+00:00   50.629257     5.431366       304.8   50.656906   \n",
       "4  2021-12-01 00:00:00+00:00   33.947800  -118.424602         0.0   51.464951   \n",
       "5  2021-12-01 00:00:00+00:00   50.627979     5.428731       304.8   50.646378   \n",
       "6  2021-12-01 00:00:00+00:00    2.861287   101.667575       914.4   49.627762   \n",
       "\n",
       "   longitude_2  altitude_2  \n",
       "0   -80.347392      129.54  \n",
       "3     5.475094      396.24  \n",
       "4    -0.437523      152.40  \n",
       "5     5.458326      281.94  \n",
       "6     6.215081      434.34  "
      ]
     },
     "execution_count": 103,
     "metadata": {},
     "output_type": "execute_result"
    }
   ],
   "source": [
    "world_flight.head()"
   ]
  },
  {
   "cell_type": "markdown",
   "id": "e3304810",
   "metadata": {},
   "source": [
    "#### isolate flights on Dec, 26"
   ]
  },
  {
   "cell_type": "code",
   "execution_count": 105,
   "id": "62b5880f",
   "metadata": {},
   "outputs": [],
   "source": [
    "world_flight.day = pd.to_datetime(world_flight.day)\n",
    "world_flight.day = world_flight.day.map(lambda t: t.strftime(\"%Y-%m-%d\"))"
   ]
  },
  {
   "cell_type": "code",
   "execution_count": 106,
   "id": "359e6835",
   "metadata": {},
   "outputs": [],
   "source": [
    "Dec26 = world_flight[world_flight.day=='2021-12-26']"
   ]
  },
  {
   "cell_type": "code",
   "execution_count": 107,
   "id": "73bc1ecb",
   "metadata": {
    "scrolled": false
   },
   "outputs": [
    {
     "data": {
      "text/plain": [
       "callsign            0\n",
       "number          21766\n",
       "icao24              3\n",
       "registration     7450\n",
       "typecode        11861\n",
       "origin              0\n",
       "destination         0\n",
       "firstseen           0\n",
       "lastseen            0\n",
       "day                 0\n",
       "latitude_1          0\n",
       "longitude_1         0\n",
       "altitude_1          0\n",
       "latitude_2          0\n",
       "longitude_2         0\n",
       "altitude_2        854\n",
       "dtype: int64"
      ]
     },
     "execution_count": 107,
     "metadata": {},
     "output_type": "execute_result"
    }
   ],
   "source": [
    "Dec26.isna().sum()"
   ]
  },
  {
   "cell_type": "markdown",
   "id": "c8d42da9",
   "metadata": {},
   "source": [
    "#### generate airports nodes"
   ]
  },
  {
   "cell_type": "code",
   "execution_count": 108,
   "id": "d0ee594c",
   "metadata": {},
   "outputs": [
    {
     "data": {
      "text/plain": [
       "1185"
      ]
     },
     "execution_count": 108,
     "metadata": {},
     "output_type": "execute_result"
    }
   ],
   "source": [
    "Dec26.origin.nunique()"
   ]
  },
  {
   "cell_type": "code",
   "execution_count": 109,
   "id": "f5a2d3fa",
   "metadata": {},
   "outputs": [
    {
     "data": {
      "text/plain": [
       "1247"
      ]
     },
     "execution_count": 109,
     "metadata": {},
     "output_type": "execute_result"
    }
   ],
   "source": [
    "Dec26.destination.nunique()"
   ]
  },
  {
   "cell_type": "code",
   "execution_count": 114,
   "id": "60728606",
   "metadata": {
    "scrolled": false
   },
   "outputs": [
    {
     "data": {
      "text/html": [
       "<div>\n",
       "<style scoped>\n",
       "    .dataframe tbody tr th:only-of-type {\n",
       "        vertical-align: middle;\n",
       "    }\n",
       "\n",
       "    .dataframe tbody tr th {\n",
       "        vertical-align: top;\n",
       "    }\n",
       "\n",
       "    .dataframe thead th {\n",
       "        text-align: right;\n",
       "    }\n",
       "</style>\n",
       "<table border=\"1\" class=\"dataframe\">\n",
       "  <thead>\n",
       "    <tr style=\"text-align: right;\">\n",
       "      <th></th>\n",
       "      <th>Id</th>\n",
       "      <th>Label</th>\n",
       "      <th>Latitude</th>\n",
       "      <th>Longitude</th>\n",
       "    </tr>\n",
       "  </thead>\n",
       "  <tbody>\n",
       "    <tr>\n",
       "      <th>15</th>\n",
       "      <td>BIKF</td>\n",
       "      <td>Keflavik International Airport</td>\n",
       "      <td>63.985001</td>\n",
       "      <td>-22.605600</td>\n",
       "    </tr>\n",
       "    <tr>\n",
       "      <th>27</th>\n",
       "      <td>CYBG</td>\n",
       "      <td>CFB Bagotville</td>\n",
       "      <td>48.330601</td>\n",
       "      <td>-70.996399</td>\n",
       "    </tr>\n",
       "    <tr>\n",
       "      <th>32</th>\n",
       "      <td>CYCD</td>\n",
       "      <td>Nanaimo Airport</td>\n",
       "      <td>49.054970</td>\n",
       "      <td>-123.869863</td>\n",
       "    </tr>\n",
       "    <tr>\n",
       "      <th>60</th>\n",
       "      <td>CYGK</td>\n",
       "      <td>Kingston Norman Rogers Airport</td>\n",
       "      <td>44.225300</td>\n",
       "      <td>-76.596901</td>\n",
       "    </tr>\n",
       "    <tr>\n",
       "      <th>69</th>\n",
       "      <td>CYHM</td>\n",
       "      <td>John C. Munro Hamilton International Airport</td>\n",
       "      <td>43.173599</td>\n",
       "      <td>-79.934998</td>\n",
       "    </tr>\n",
       "  </tbody>\n",
       "</table>\n",
       "</div>"
      ],
      "text/plain": [
       "      Id                                         Label   Latitude   Longitude\n",
       "15  BIKF                Keflavik International Airport  63.985001  -22.605600\n",
       "27  CYBG                                CFB Bagotville  48.330601  -70.996399\n",
       "32  CYCD                               Nanaimo Airport  49.054970 -123.869863\n",
       "60  CYGK                Kingston Norman Rogers Airport  44.225300  -76.596901\n",
       "69  CYHM  John C. Munro Hamilton International Airport  43.173599  -79.934998"
      ]
     },
     "execution_count": 114,
     "metadata": {},
     "output_type": "execute_result"
    }
   ],
   "source": [
    "nodes = all_airports[all_airports.ICAO.isin(Dec26.destination.values)]\n",
    "nodes = nodes.rename(columns={'ICAO':'Id', 'Name':'Label'})\n",
    "nodes = nodes[['Id', 'Label', 'Latitude', 'Longitude']]\n",
    "nodes.head()"
   ]
  },
  {
   "cell_type": "markdown",
   "id": "effc4306",
   "metadata": {},
   "source": [
    "#### count the number of flights from the same origin to the same destination"
   ]
  },
  {
   "cell_type": "code",
   "execution_count": 115,
   "id": "20554222",
   "metadata": {
    "scrolled": true
   },
   "outputs": [],
   "source": [
    "edges = Dec26.groupby(['origin','destination']).size().reset_index(name='Count')"
   ]
  },
  {
   "cell_type": "code",
   "execution_count": 116,
   "id": "1a001d14",
   "metadata": {},
   "outputs": [],
   "source": [
    "edges['Type'] = 'Directed'"
   ]
  },
  {
   "cell_type": "code",
   "execution_count": 117,
   "id": "f7b843f6",
   "metadata": {
    "scrolled": true
   },
   "outputs": [
    {
     "data": {
      "text/html": [
       "<div>\n",
       "<style scoped>\n",
       "    .dataframe tbody tr th:only-of-type {\n",
       "        vertical-align: middle;\n",
       "    }\n",
       "\n",
       "    .dataframe tbody tr th {\n",
       "        vertical-align: top;\n",
       "    }\n",
       "\n",
       "    .dataframe thead th {\n",
       "        text-align: right;\n",
       "    }\n",
       "</style>\n",
       "<table border=\"1\" class=\"dataframe\">\n",
       "  <thead>\n",
       "    <tr style=\"text-align: right;\">\n",
       "      <th></th>\n",
       "      <th>Source</th>\n",
       "      <th>Target</th>\n",
       "      <th>Type</th>\n",
       "      <th>Weight</th>\n",
       "    </tr>\n",
       "  </thead>\n",
       "  <tbody>\n",
       "    <tr>\n",
       "      <th>0</th>\n",
       "      <td>07FA</td>\n",
       "      <td>KMDQ</td>\n",
       "      <td>Directed</td>\n",
       "      <td>1</td>\n",
       "    </tr>\n",
       "    <tr>\n",
       "      <th>1</th>\n",
       "      <td>18AZ</td>\n",
       "      <td>18AZ</td>\n",
       "      <td>Directed</td>\n",
       "      <td>1</td>\n",
       "    </tr>\n",
       "    <tr>\n",
       "      <th>2</th>\n",
       "      <td>5NC2</td>\n",
       "      <td>KISM</td>\n",
       "      <td>Directed</td>\n",
       "      <td>1</td>\n",
       "    </tr>\n",
       "    <tr>\n",
       "      <th>3</th>\n",
       "      <td>7FL4</td>\n",
       "      <td>KLAL</td>\n",
       "      <td>Directed</td>\n",
       "      <td>1</td>\n",
       "    </tr>\n",
       "    <tr>\n",
       "      <th>4</th>\n",
       "      <td>BIKF</td>\n",
       "      <td>CYYZ</td>\n",
       "      <td>Directed</td>\n",
       "      <td>2</td>\n",
       "    </tr>\n",
       "  </tbody>\n",
       "</table>\n",
       "</div>"
      ],
      "text/plain": [
       "  Source Target      Type  Weight\n",
       "0   07FA   KMDQ  Directed       1\n",
       "1   18AZ   18AZ  Directed       1\n",
       "2   5NC2   KISM  Directed       1\n",
       "3   7FL4   KLAL  Directed       1\n",
       "4   BIKF   CYYZ  Directed       2"
      ]
     },
     "execution_count": 117,
     "metadata": {},
     "output_type": "execute_result"
    }
   ],
   "source": [
    "edges = edges.rename(columns={'origin':'Source', 'destination':'Target', 'Count':'Weight'})\n",
    "edges = edges[['Source', 'Target', 'Type', 'Weight']]\n",
    "edges.head()"
   ]
  },
  {
   "cell_type": "code",
   "execution_count": 118,
   "id": "f316307f",
   "metadata": {},
   "outputs": [
    {
     "data": {
      "text/plain": [
       "1247"
      ]
     },
     "execution_count": 118,
     "metadata": {},
     "output_type": "execute_result"
    }
   ],
   "source": [
    "edges.Target.nunique()"
   ]
  },
  {
   "cell_type": "code",
   "execution_count": 119,
   "id": "563272e0",
   "metadata": {},
   "outputs": [
    {
     "data": {
      "text/plain": [
       "1247"
      ]
     },
     "execution_count": 119,
     "metadata": {},
     "output_type": "execute_result"
    }
   ],
   "source": [
    "nodes.Id.nunique()"
   ]
  },
  {
   "cell_type": "markdown",
   "id": "7660bd2c",
   "metadata": {},
   "source": [
    "#### export csv files"
   ]
  },
  {
   "cell_type": "code",
   "execution_count": 63,
   "id": "b9d5cd0e",
   "metadata": {},
   "outputs": [],
   "source": [
    "nodes.to_csv('dec26_nodes.csv', index=False)\n",
    "edges.to_csv('dec26_edges.csv', index=False)"
   ]
  },
  {
   "cell_type": "code",
   "execution_count": 120,
   "id": "fb4a934b",
   "metadata": {},
   "outputs": [],
   "source": [
    "nodes.to_csv('dec26_nodes_world.csv', index=False)\n",
    "edges.to_csv('dec26_edges_world.csv', index=False)"
   ]
  },
  {
   "cell_type": "code",
   "execution_count": null,
   "id": "1c40844f",
   "metadata": {},
   "outputs": [],
   "source": []
  },
  {
   "cell_type": "markdown",
   "id": "f1986a7a",
   "metadata": {},
   "source": [
    "#### process Dec 26, 2019"
   ]
  },
  {
   "cell_type": "code",
   "execution_count": 121,
   "id": "a512e806",
   "metadata": {},
   "outputs": [],
   "source": [
    "flight_19 = pd.read_csv('data/air_traffic/flightlist_20191201_20191231.csv')"
   ]
  },
  {
   "cell_type": "code",
   "execution_count": 132,
   "id": "fc4328a0",
   "metadata": {},
   "outputs": [],
   "source": [
    "flight_19.day = pd.to_datetime(flight_19.day)\n",
    "flight_19.day = flight_19.day.map(lambda t: t.strftime(\"%Y-%m-%d\"))\n",
    "Dec26_19 = flight_19[flight_19.day=='2019-12-26']"
   ]
  },
  {
   "cell_type": "code",
   "execution_count": 133,
   "id": "9dfeefa3",
   "metadata": {},
   "outputs": [
    {
     "data": {
      "text/plain": [
       "callsign            0\n",
       "number          65198\n",
       "icao24              0\n",
       "registration    11866\n",
       "typecode        21817\n",
       "origin          24648\n",
       "destination     19972\n",
       "firstseen           0\n",
       "lastseen            0\n",
       "day                 0\n",
       "latitude_1          0\n",
       "longitude_1         0\n",
       "altitude_1          0\n",
       "latitude_2          1\n",
       "longitude_2         1\n",
       "altitude_2       2389\n",
       "dtype: int64"
      ]
     },
     "execution_count": 133,
     "metadata": {},
     "output_type": "execute_result"
    }
   ],
   "source": [
    "Dec26_19.isna().sum()"
   ]
  },
  {
   "cell_type": "code",
   "execution_count": 134,
   "id": "86254c9d",
   "metadata": {},
   "outputs": [],
   "source": [
    "world_flight_19 = Dec26_19[Dec26_19.origin.isin(all_airports.ICAO.values) & Dec26_19.destination.isin(all_airports.ICAO.values)]"
   ]
  },
  {
   "cell_type": "code",
   "execution_count": 139,
   "id": "0ffd7235",
   "metadata": {
    "scrolled": true
   },
   "outputs": [
    {
     "data": {
      "text/plain": [
       "(1161, 4)"
      ]
     },
     "execution_count": 139,
     "metadata": {},
     "output_type": "execute_result"
    }
   ],
   "source": [
    "nodes_19 = all_airports[all_airports.ICAO.isin(world_flight_19.destination.values)]\n",
    "nodes_19 = nodes_19.rename(columns={'ICAO':'Id', 'Name':'Label'})\n",
    "nodes_19 = nodes_19[['Id', 'Label', 'Latitude', 'Longitude']]\n",
    "nodes_19"
   ]
  },
  {
   "cell_type": "code",
   "execution_count": 136,
   "id": "24b6d0e1",
   "metadata": {},
   "outputs": [],
   "source": [
    "edges_19 = world_flight_19.groupby(['origin','destination']).size().reset_index(name='Count')"
   ]
  },
  {
   "cell_type": "code",
   "execution_count": 137,
   "id": "0fc1b144",
   "metadata": {},
   "outputs": [],
   "source": [
    "edges_19['Type'] = 'Directed'"
   ]
  },
  {
   "cell_type": "code",
   "execution_count": 138,
   "id": "c94df46f",
   "metadata": {
    "scrolled": true
   },
   "outputs": [
    {
     "data": {
      "text/html": [
       "<div>\n",
       "<style scoped>\n",
       "    .dataframe tbody tr th:only-of-type {\n",
       "        vertical-align: middle;\n",
       "    }\n",
       "\n",
       "    .dataframe tbody tr th {\n",
       "        vertical-align: top;\n",
       "    }\n",
       "\n",
       "    .dataframe thead th {\n",
       "        text-align: right;\n",
       "    }\n",
       "</style>\n",
       "<table border=\"1\" class=\"dataframe\">\n",
       "  <thead>\n",
       "    <tr style=\"text-align: right;\">\n",
       "      <th></th>\n",
       "      <th>Source</th>\n",
       "      <th>Target</th>\n",
       "      <th>Type</th>\n",
       "      <th>Weight</th>\n",
       "    </tr>\n",
       "  </thead>\n",
       "  <tbody>\n",
       "    <tr>\n",
       "      <th>0</th>\n",
       "      <td>18AZ</td>\n",
       "      <td>18AZ</td>\n",
       "      <td>Directed</td>\n",
       "      <td>1</td>\n",
       "    </tr>\n",
       "    <tr>\n",
       "      <th>1</th>\n",
       "      <td>18AZ</td>\n",
       "      <td>KSDL</td>\n",
       "      <td>Directed</td>\n",
       "      <td>2</td>\n",
       "    </tr>\n",
       "    <tr>\n",
       "      <th>2</th>\n",
       "      <td>1AZ0</td>\n",
       "      <td>KGYR</td>\n",
       "      <td>Directed</td>\n",
       "      <td>2</td>\n",
       "    </tr>\n",
       "    <tr>\n",
       "      <th>3</th>\n",
       "      <td>BIKF</td>\n",
       "      <td>CYYZ</td>\n",
       "      <td>Directed</td>\n",
       "      <td>1</td>\n",
       "    </tr>\n",
       "    <tr>\n",
       "      <th>4</th>\n",
       "      <td>BIKF</td>\n",
       "      <td>EBBR</td>\n",
       "      <td>Directed</td>\n",
       "      <td>1</td>\n",
       "    </tr>\n",
       "  </tbody>\n",
       "</table>\n",
       "</div>"
      ],
      "text/plain": [
       "  Source Target      Type  Weight\n",
       "0   18AZ   18AZ  Directed       1\n",
       "1   18AZ   KSDL  Directed       2\n",
       "2   1AZ0   KGYR  Directed       2\n",
       "3   BIKF   CYYZ  Directed       1\n",
       "4   BIKF   EBBR  Directed       1"
      ]
     },
     "execution_count": 138,
     "metadata": {},
     "output_type": "execute_result"
    }
   ],
   "source": [
    "edges_19 = edges_19.rename(columns={'origin':'Source', 'destination':'Target', 'Count':'Weight'})\n",
    "edges_19 = edges_19[['Source', 'Target', 'Type', 'Weight']]\n",
    "edges_19.head()"
   ]
  },
  {
   "cell_type": "code",
   "execution_count": 130,
   "id": "618c4cec",
   "metadata": {},
   "outputs": [],
   "source": [
    "nodes_19.to_csv('dec26_19_nodes_world.csv', index=False)\n",
    "edges_19.to_csv('dec26_19_edges_world.csv', index=False)"
   ]
  },
  {
   "cell_type": "code",
   "execution_count": 141,
   "id": "146136b9",
   "metadata": {},
   "outputs": [],
   "source": [
    "a = pd.read_csv('airports.dat', header=None)"
   ]
  },
  {
   "cell_type": "code",
   "execution_count": 143,
   "id": "c264aa91",
   "metadata": {},
   "outputs": [],
   "source": [
    "col = ['ID','Name','City','Country',\n",
    "       'IATA','ICAO','Latitude','Longitude',\n",
    "       'Altitude','Timezone','DST','time_zone',\n",
    "       'Type','Source']\n",
    "\n",
    "a.columns = col"
   ]
  },
  {
   "cell_type": "code",
   "execution_count": 146,
   "id": "d42d5f21",
   "metadata": {},
   "outputs": [
    {
     "data": {
      "text/plain": [
       "array(['Papua New Guinea', 'Papua New Guinea', 'Papua New Guinea', ...,\n",
       "       'Russia', 'Chile', 'Ukraine'], dtype=object)"
      ]
     },
     "execution_count": 146,
     "metadata": {},
     "output_type": "execute_result"
    }
   ],
   "source": [
    "a.Country.values"
   ]
  }
 ],
 "metadata": {
  "kernelspec": {
   "display_name": "Python 3",
   "language": "python",
   "name": "python3"
  },
  "language_info": {
   "codemirror_mode": {
    "name": "ipython",
    "version": 3
   },
   "file_extension": ".py",
   "mimetype": "text/x-python",
   "name": "python",
   "nbconvert_exporter": "python",
   "pygments_lexer": "ipython3",
   "version": "3.8.8"
  }
 },
 "nbformat": 4,
 "nbformat_minor": 5
}
